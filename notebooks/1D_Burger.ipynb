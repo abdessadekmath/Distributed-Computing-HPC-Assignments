{
 "cells": [
  {
   "cell_type": "markdown",
   "metadata": {},
   "source": [
    "## Imports"
   ]
  },
  {
   "cell_type": "code",
   "execution_count": 77,
   "metadata": {},
   "outputs": [],
   "source": [
    "import numpy as np\n",
    "import sympy as sp\n",
    "import math as m\n",
    "from sympy.utilities.lambdify import lambdify\n",
    "\n",
    "from sympy import init_printing\n",
    "init_printing(use_latex=True)\n",
    "import matplotlib.pyplot as plt\n",
    "\n",
    "from numba import njit\n",
    "from pyccel.epyccel import epyccel\n",
    "from pyccel.decorators import types\n",
    "\n",
    "#fill the libraries import\n",
    "#..."
   ]
  },
  {
   "cell_type": "markdown",
   "metadata": {},
   "source": [
    "## Pure python function"
   ]
  },
  {
   "cell_type": "code",
   "execution_count": 78,
   "metadata": {},
   "outputs": [],
   "source": [
    "def solve_1d_burger_pure(u, nt, nx, dt, dx, nu):\n",
    "    \n",
    "    #fill the update of u\n",
    "    \n",
    "    for n in range(nt):\n",
    "        for i in range(1,nx-1):\n",
    "            u[i]=u[i]-dt/dx*u[i]*(u[i]-u[i-1])+nu*dt/dx**2*(u[i+1]-2*u[i]+u[i-1])\n",
    "        u[0]=u[0]-dt/dx*u[0]*(u[0]-u[-1])+nu*dt/dx**2*(u[1]-2*u[0]+u[-1])\n",
    "        u[-1]=u[0]\n",
    "            \n",
    "    return 0"
   ]
  },
  {
   "cell_type": "markdown",
   "metadata": {},
   "source": [
    "## Numba accelerator"
   ]
  },
  {
   "cell_type": "code",
   "execution_count": 79,
   "metadata": {},
   "outputs": [],
   "source": [
    "@njit(fastmath=True)\n",
    "def solve_1d_burger_numba(u, nt, nx, dt, dx, nu):\n",
    "    \n",
    "    #fill the update of u\n",
    "    \n",
    "    for n in range(nt):\n",
    "        for i in range(1,nx-1):\n",
    "            u[i]=u[i]-dt/dx*u[i]*(u[i]-u[i-1])+nu*dt/dx**2*(u[i+1]-2*u[i]+u[i-1])  \n",
    "            \n",
    "    u[0]=u[0]-dt/dx*u[0]*(u[0]-u[-1])+nu*dt/dx**2*(u[1]-2*u[0]+u[-1])\n",
    "    \n",
    "    u[-1]=u[0]\n",
    "            \n",
    "            \n",
    "        \n",
    "        \n",
    "    return 0"
   ]
  },
  {
   "cell_type": "markdown",
   "metadata": {},
   "source": [
    "## Pyccel accelerator"
   ]
  },
  {
   "cell_type": "code",
   "execution_count": 80,
   "metadata": {},
   "outputs": [],
   "source": [
    "@types('float[:]', 'int', 'int', 'float', 'float', 'float')\n",
    "def solve_1d_burger_pyccel(u, nt, nx, dt, dx, nu):\n",
    "    \n",
    "    #fill the update of u\n",
    "    \n",
    "    for n in range(nt):\n",
    "        for i in range(1,nx-1):\n",
    "            \n",
    "            u[i]=u[i]-dt/dx*u[i]*(u[i]-u[i-1])+nu*dt/dx**2*(u[i+1]-2*u[i]+u[i-1])\n",
    "            \n",
    "        u[0]=u[0]-dt/dx*u[0]*(u[0]-u[-2])+nu*dt/dx**2*(u[1]-2*u[0]+u[-2])\n",
    "        \n",
    "        u[-1]=u[0]\n",
    "       \n",
    "    return 0"
   ]
  },
  {
   "cell_type": "markdown",
   "metadata": {},
   "source": [
    "## Inputs"
   ]
  },
  {
   "cell_type": "code",
   "execution_count": 81,
   "metadata": {},
   "outputs": [],
   "source": [
    "#sympy computation\n",
    "x, nu, t = sp.symbols('x nu t')\n",
    "phi = (sp.exp(-(x - 4 * t)**2 / (4 * nu * (t + 1))) +\n",
    "       sp.exp(-(x - 4 * t - 2 * sp.pi)**2 / (4 * nu * (t + 1))))\n",
    "\n",
    "phiprime = phi.diff(x)\n",
    "u = -2 * nu * (phiprime / phi) + 4\n",
    "ufunc = lambdify((t, x, nu), u)"
   ]
  },
  {
   "cell_type": "code",
   "execution_count": 82,
   "metadata": {},
   "outputs": [],
   "source": [
    "###variable declarations\n",
    "nx = 201\n",
    "nt = 100\n",
    "dx = 2 * np.pi / (nx - 1)\n",
    "nu = .07\n",
    "dt = dx * nu\n",
    "\n",
    "x = np.linspace(0, 2 * np.pi, nx)\n",
    "t = 0"
   ]
  },
  {
   "cell_type": "markdown",
   "metadata": {},
   "source": [
    "## Plot initial condition"
   ]
  },
  {
   "cell_type": "code",
   "execution_count": 83,
   "metadata": {},
   "outputs": [
    {
     "data": {
      "image/png": "[encoded data removed]",
      "text/plain": [
       "<Figure size 432x288 with 1 Axes>"
      ]
     },
     "metadata": {
      "needs_background": "light"
     },
     "output_type": "display_data"
    }
   ],
   "source": [
    "u = np.asarray([ufunc(t, x0, nu) for x0 in x])\n",
    "plt.figure()\n",
    "plt.plot(x, u, marker='o', lw=2)\n",
    "plt.xlim([0, 2 * np.pi])\n",
    "plt.ylim([0, 10]);"
   ]
  },
  {
   "cell_type": "code",
   "execution_count": 84,
   "metadata": {},
   "outputs": [
    {
     "data": {
      "text/plain": [
       "<matplotlib.legend.Legend at 0x7f9d452bfd60>"
      ]
     },
     "execution_count": 84,
     "metadata": {},
     "output_type": "execute_result"
    },
    {
     "data": {
      "image/png": "[encoded data removed]",
      "text/plain": [
       "<Figure size 432x288 with 1 Axes>"
      ]
     },
     "metadata": {
      "needs_background": "light"
     },
     "output_type": "display_data"
    }
   ],
   "source": [
    "solve_1d_burger_pure(u, nt, nx, dt, dx, nu)\n",
    "\n",
    "# Analytical solution\n",
    "u_analytical = np.asarray([ufunc(nt * dt, xi, nu) for xi in x])\n",
    "\n",
    "\n",
    "#Plotting data\n",
    "plt.figure()\n",
    "plt.plot(x,u, marker='o', lw=2, label='Computational')\n",
    "plt.plot(x, u_analytical, label='Analytical')\n",
    "plt.xlim([0, 2 * np.pi])\n",
    "plt.ylim([0, 10])\n",
    "plt.legend()"
   ]
  },
  {
   "cell_type": "markdown",
   "metadata": {},
   "source": [
    "## Call Funtions"
   ]
  },
  {
   "cell_type": "markdown",
   "metadata": {},
   "source": [
    "### Pure function"
   ]
  },
  {
   "cell_type": "code",
   "execution_count": 76,
   "metadata": {},
   "outputs": [
    {
     "name": "stdout",
     "output_type": "stream",
     "text": [
      "44.2 ms ± 4.7 ms per loop (mean ± std. dev. of 7 runs, 10 loops each)\n"
     ]
    }
   ],
   "source": [
    "%timeit solve_1d_burger_pure(u, nt, nx, dt, dx, nu)"
   ]
  },
  {
   "cell_type": "markdown",
   "metadata": {},
   "source": [
    "### Function with numba accelerator"
   ]
  },
  {
   "cell_type": "code",
   "execution_count": 75,
   "metadata": {},
   "outputs": [
    {
     "name": "stdout",
     "output_type": "stream",
     "text": [
      "96.7 µs ± 1.09 µs per loop (mean ± std. dev. of 7 runs, 10000 loops each)\n"
     ]
    }
   ],
   "source": [
    "%timeit solve_1d_burger_numba(u, nt, nx, dt, dx, nu)"
   ]
  },
  {
   "cell_type": "markdown",
   "metadata": {},
   "source": [
    "### Function with pyccel accelerator"
   ]
  },
  {
   "cell_type": "code",
   "execution_count": 74,
   "metadata": {},
   "outputs": [],
   "source": [
    "solve_1d_burger_f90 = epyccel(solve_1d_burger_pyccel)\n"
   ]
  },
  {
   "cell_type": "code",
   "execution_count": 73,
   "metadata": {},
   "outputs": [
    {
     "name": "stdout",
     "output_type": "stream",
     "text": [
      "93.5 µs ± 287 ns per loop (mean ± std. dev. of 7 runs, 10000 loops each)\n"
     ]
    }
   ],
   "source": [
    "%timeit solve_1d_burger_f90(u, nt, nx, dt, dx, nu)"
   ]
  },
  {
   "cell_type": "code",
   "execution_count": null,
   "metadata": {},
   "outputs": [],
   "source": [
    "\n",
    "\n"
   ]
  }
 ],
 "metadata": {
  "kernelspec": {
   "display_name": "Python 3",
   "language": "python",
   "name": "python3"
  },
  "language_info": {
   "codemirror_mode": {
    "name": "ipython",
    "version": 3
   },
   "file_extension": ".py",
   "mimetype": "text/x-python",
   "name": "python",
   "nbconvert_exporter": "python",
   "pygments_lexer": "ipython3",
   "version": "3.8.5"
  }
 },
 "nbformat": 4,
 "nbformat_minor": 2
}
